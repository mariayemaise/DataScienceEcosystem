{
  "nbformat": 4,
  "nbformat_minor": 0,
  "metadata": {
    "colab": {
      "provenance": []
    },
    "kernelspec": {
      "name": "python3",
      "display_name": "Python 3"
    },
    "language_info": {
      "name": "python"
    }
  },
  "cells": [
    {
      "cell_type": "markdown",
      "source": [
        "# Data Science Tools and Ecosystem"
      ],
      "metadata": {
        "id": "oU0iKavQnPg8"
      }
    },
    {
      "cell_type": "markdown",
      "source": [
        "In this notebook, Data Science Tools and Ecosystem are summarized."
      ],
      "metadata": {
        "id": "D98uKVJYnTc1"
      }
    },
    {
      "cell_type": "markdown",
      "source": [
        "Some of the popular languages that Data Scientists use are:\n",
        "1. Python\n",
        "2. Sql\n",
        "3. Java\n",
        "4. Scala\n",
        "5. R"
      ],
      "metadata": {
        "id": "8JYb2T3znnaV"
      }
    },
    {
      "cell_type": "markdown",
      "source": [
        "Some of the commonly used libraries used by Data Scientists include:\n",
        "1. Pandas\n",
        "2. Numpy\n",
        "3. Seaborn\n",
        "4. Scikit-learn"
      ],
      "metadata": {
        "id": "2bDI0511oGRB"
      }
    },
    {
      "cell_type": "markdown",
      "source": [
        "| Data Science Tools  |\n",
        "|---------------------|\n",
        "| Jupyter Notebook    |\n",
        "| R Studio            |\n",
        "| VS code             |\n"
      ],
      "metadata": {
        "id": "znsG2IqorHMU"
      }
    },
    {
      "cell_type": "markdown",
      "source": [
        "\n",
        "### Below are a few examples of evaluating arithmetic expressions in Python\n",
        "---\n",
        "\n",
        "\n",
        "\n",
        "\n",
        "\n"
      ],
      "metadata": {
        "id": "O3Iu0DImo-mL"
      }
    },
    {
      "cell_type": "code",
      "source": [
        "# This a simple arithmetic expression to mutiply then add integers.\n",
        "(3*4)+5"
      ],
      "metadata": {
        "colab": {
          "base_uri": "https://localhost:8080/"
        },
        "id": "Z1LFAkD0p146",
        "outputId": "1a23e703-747c-49c7-91ee-960c0980ed4c"
      },
      "execution_count": 1,
      "outputs": [
        {
          "output_type": "execute_result",
          "data": {
            "text/plain": [
              "17"
            ]
          },
          "metadata": {},
          "execution_count": 1
        }
      ]
    },
    {
      "cell_type": "code",
      "source": [
        "# This will convert 200 minutes to hours by diving by 60.\n",
        "min = 200\n",
        "hr = min/60\n",
        "print(hr)"
      ],
      "metadata": {
        "colab": {
          "base_uri": "https://localhost:8080/"
        },
        "id": "3qAy6DsVuRYf",
        "outputId": "524e9858-34b3-4277-e8a4-7f43e272f2be"
      },
      "execution_count": 2,
      "outputs": [
        {
          "output_type": "stream",
          "name": "stdout",
          "text": [
            "3.3333333333333335\n"
          ]
        }
      ]
    },
    {
      "cell_type": "markdown",
      "source": [
        "**Objectives:**\n",
        "\n",
        "\n",
        "*   List popular languages for Data Science\n",
        "*   Evaluating arithmetic expressions in Python\n",
        "*   Commonly used libraries used by Data Scientists\n",
        "*   Data Science tools\n",
        "\n",
        "\n",
        "\n"
      ],
      "metadata": {
        "id": "e_5jap7ouiks"
      }
    },
    {
      "cell_type": "markdown",
      "source": [
        "## Author\n",
        "Ajose Maria Yemaise"
      ],
      "metadata": {
        "id": "x3N3a6CFvkY8"
      }
    }
  ]
}